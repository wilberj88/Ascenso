{
  "nbformat": 4,
  "nbformat_minor": 0,
  "metadata": {
    "colab": {
      "name": "Copia de Introducción a Python.ipynb",
      "provenance": [],
      "collapsed_sections": [
        "j8UTMbuKRjVs",
        "Na9Sa6mpSVoq",
        "1-l6bivNTnu6",
        "Ep-9gSOPUAVM",
        "M5ObH7siW5QG",
        "yeVGshMWKPZO",
        "K7Pwr0VBKR0f",
        "mla1P1mGKegh",
        "UM6XqmhbK7F_",
        "8zE7ZiqsK6va",
        "Y0ATTZIYK6aD"
      ],
      "include_colab_link": true
    },
    "kernelspec": {
      "name": "python3",
      "display_name": "Python 3"
    }
  },
  "cells": [
    {
      "cell_type": "markdown",
      "metadata": {
        "id": "view-in-github",
        "colab_type": "text"
      },
      "source": [
        "<a href=\"https://colab.research.google.com/github/wilberj88/Ascenso/blob/main/Introducci%C3%B3n_a_Python.ipynb\" target=\"_parent\"><img src=\"https://colab.research.google.com/assets/colab-badge.svg\" alt=\"Open In Colab\"/></a>"
      ]
    },
    {
      "cell_type": "markdown",
      "metadata": {
        "id": "LpsoDc-T0qNB",
        "colab_type": "text"
      },
      "source": [
        "# Introducción a Python \n",
        "\n",
        "\n",
        "\n",
        "\n"
      ]
    },
    {
      "cell_type": "markdown",
      "metadata": {
        "id": "51IZVTJVyZYN",
        "colab_type": "text"
      },
      "source": [
        "## Objetivos del curso\n",
        "\n",
        "\n",
        "\n"
      ]
    },
    {
      "cell_type": "markdown",
      "metadata": {
        "id": "DSGubOQp_BUd",
        "colab_type": "text"
      },
      "source": [
        "En este curso intentaremos abordar los conceptos claves de Python para poder afrontar las diferentes prácticas que tendréis que realizar a lo largo del master, os dejo una serie de consejos para abordar este taller:\n",
        "\n",
        "\n",
        "\n",
        "*   No tengas prisa, aunque el curso es corto intenta volver a leerlo a lo largo del master o cuando te surjan dudas.\n",
        "*   Orienta el taller como una guía o manual, aquí encontrarás prácticamente todo lo que necesitas durante el master, pero es difícil abordarlo todo desde el primer momento, intenta acercarte un poco a todo lo que vamos a ver para luego ampliar los conocimientos por tu cuenta.\n",
        "*   Intenta consultar la documentación oficial, aquí dejaré un resumen de la mayoría de los conceptos, pero es importante acudir a las guías oficiales para resolver dudas específicas.\n",
        "*   Escribe código, no te limites a leer lo que aparece, a lo largo del documento encontrarás cuadros en los que escribir tu código y probar todo lo visto.\n",
        "*   Ser realistas con los objetivos, programar es algo complejo, se requiere de tiempo y práctica, si no se tiene experiencia previa es necesario un tiempo amplio para adquirir un mínimo de conocimientos, pero siguiendo este curso podrás adquirir conocimientos básicos para seguir ampliando luego por tu cuenta."
      ]
    },
    {
      "cell_type": "markdown",
      "metadata": {
        "id": "0ntbT5lc8T21",
        "colab_type": "text"
      },
      "source": [
        "**Es importante volver de vez en cuando a las explicaciones dadas en el taller.**\n",
        "Muchas de las dudas que os surjan serán cuando os enfrentéis a los problemas que se os propongan, así que es importante repasar asiduamente todo lo visto en esta guía para afianzar conocimientos y resolver dudas."
      ]
    },
    {
      "cell_type": "markdown",
      "metadata": {
        "id": "tPqiw16_8rpK",
        "colab_type": "text"
      },
      "source": [
        "Algunos de los recursos más importantes sobre `Python` son:\n",
        "\n",
        "\n",
        "*   [Documentación Oficial de Python](https://docs.python.org/3/contents.html)\n",
        "*   [Guía de Python](https://www.learnpython.org)\n",
        "*   [Tutorial de Python en Español](https://www.tutorialpython.com)\n",
        "\n",
        "\n"
      ]
    },
    {
      "cell_type": "markdown",
      "metadata": {
        "id": "hwZbdwTZydkS",
        "colab_type": "text"
      },
      "source": [
        "##<img alt=\"Colaboratory logo\" height=\"45px\" src=\"https://colab.research.google.com/img/colab_favicon.ico\" align=\"left\" hspace=\"10px\" vspace=\"0px\"> <h1>Colaboratory</h1>\n"
      ]
    },
    {
      "cell_type": "markdown",
      "metadata": {
        "id": "FBm29BED_MEv",
        "colab_type": "text"
      },
      "source": [
        "Colaboratory es un entorno basado en [Jupyter Notebook](https://jupyter.org/) que permite ejecutar código en Python sin ningún tipo de requerimiento ni instalaciones previas.\n",
        "\n",
        "Con Colaboratory puedes escribir y ejecutar código, guardar y visualizar las analíticas y acceder a recursos computacionales desde el navegador.\n",
        "\n",
        "El documento que estás leyendo es un *Jupyter notebook* alojado en Colaboratory. No es una página estática, es un entorno dinámico que permite escribir y ejectuar código en *Python 3*.\n",
        "\n",
        "Por ejemplo aquí tenemos una **celda de código** con un pequeño script en *Python* que realiza una operación aritmética y guarda el resultado en una variable, imprimiendo el resultado en pantalla, lo único que hay que hacer es pulsar entre los dos paréntesis [     ]"
      ]
    },
    {
      "cell_type": "code",
      "metadata": {
        "id": "0dWmvq4dBJsD",
        "colab_type": "code",
        "colab": {
          "base_uri": "https://localhost:8080/",
          "height": 35
        },
        "outputId": "ccb368ab-8c81-4889-a420-6a7595f61bc9"
      },
      "source": [
        "# My first program\n",
        "seconds_in_a_day = 24 * 60 * 60\n",
        "print(seconds_in_a_day)"
      ],
      "execution_count": null,
      "outputs": [
        {
          "output_type": "stream",
          "text": [
            "86400\n"
          ],
          "name": "stdout"
        }
      ]
    },
    {
      "cell_type": "markdown",
      "metadata": {
        "id": "NKxAGG3NBfqB",
        "colab_type": "text"
      },
      "source": [
        "También encontrarás celdas vacías donde podrás probar tu código para ver los resultados, es importante usarlas ya que la mejor forma de aprender a programar es programando. Aparecerán con un comentario con la palabra reservada `TODO`."
      ]
    },
    {
      "cell_type": "markdown",
      "metadata": {
        "id": "teBbA2TRTWLY",
        "colab_type": "text"
      },
      "source": [
        "### Ejercicio\n"
      ]
    },
    {
      "cell_type": "markdown",
      "metadata": {
        "id": "gC_q3xS40pGf",
        "colab_type": "text"
      },
      "source": [
        "Escribe un script que enseñe los minutos que hay en un día"
      ]
    },
    {
      "cell_type": "code",
      "metadata": {
        "id": "Rrqirr3nBuWQ",
        "colab_type": "code",
        "colab": {
          "base_uri": "https://localhost:8080/",
          "height": 35
        },
        "outputId": "6a60dbe4-b2b4-4b09-a879-b0a06a8cc043"
      },
      "source": [
        "# TODO Write a program to display minutes in a day"
      ],
      "execution_count": null,
      "outputs": [
        {
          "output_type": "stream",
          "text": [
            "1440\n"
          ],
          "name": "stdout"
        }
      ]
    },
    {
      "cell_type": "markdown",
      "metadata": {
        "id": "j8UTMbuKRjVs",
        "colab_type": "text"
      },
      "source": [
        "#### Solución\n",
        "\n",
        "Haz click para ver el resultado"
      ]
    },
    {
      "cell_type": "code",
      "metadata": {
        "id": "laCQSC_JRokW",
        "colab_type": "code",
        "colab": {
          "base_uri": "https://localhost:8080/",
          "height": 53
        },
        "outputId": "f24dd73c-32e1-4c6d-b8e0-1cf501482c39"
      },
      "source": [
        "day = 1\n",
        "hours = 24\n",
        "minutes = 60\n",
        "minutes_in_day = day * hours * minutes\n",
        "print(minutes_in_day)\n",
        "\n",
        "#----------------------\n",
        "print(24 * 60 * 1)"
      ],
      "execution_count": null,
      "outputs": [
        {
          "output_type": "stream",
          "text": [
            "1440\n",
            "1440\n"
          ],
          "name": "stdout"
        }
      ]
    },
    {
      "cell_type": "markdown",
      "metadata": {
        "id": "E0EyqYFI6LUW",
        "colab_type": "text"
      },
      "source": [
        "#Python\n",
        "\n",
        "\n"
      ]
    },
    {
      "cell_type": "markdown",
      "metadata": {
        "id": "UO9RdcCjChdE",
        "colab_type": "text"
      },
      "source": [
        "**Python** es un lenguaje de propósito general, interpretado, interactivo, orientado objetos y de alto nivel. Fue creado por Guido van Rossmun entre 1985 y 1990. Está amparado dentro de la GNU General Public License (GPL). Y fue llamado así por los Monty Python (no por la serpiente pitón).\n",
        "\n",
        "\n"
      ]
    },
    {
      "cell_type": "markdown",
      "metadata": {
        "id": "iTIOHa3kCjRF",
        "colab_type": "text"
      },
      "source": [
        "Es importante explicar que un lenguaje de programación es un lenguaje formal que proporciona una serie de instrucciones que permiten a un progrmador escribir secuencias de órdenes y algoritmos a modo de controlar el comportamiento lógico de una computadora.\n"
      ]
    },
    {
      "cell_type": "markdown",
      "metadata": {
        "id": "LlvZg3mu6Ww3",
        "colab_type": "text"
      },
      "source": [
        "## Mi primer programa\n",
        "\n"
      ]
    },
    {
      "cell_type": "markdown",
      "metadata": {
        "id": "gkOJENdPzF_X",
        "colab_type": "text"
      },
      "source": [
        "### Hola Mundo"
      ]
    },
    {
      "cell_type": "markdown",
      "metadata": {
        "id": "DwRgis8eNEmv",
        "colab_type": "text"
      },
      "source": [
        "Python tiene muchas similaridades a otros lenguajes como Perl, C o Java. Pese a ello hay unas cuentas diferencias esenciales que le hacen únicos.\n",
        "Al ser un lenguaje *Interpretado* no hará falta compilarlo antes de ejecutarlo, así evitamos cualquier declaración previa y podemos crear programas de una sola línea de código."
      ]
    },
    {
      "cell_type": "code",
      "metadata": {
        "id": "Lw9zfB076cUC",
        "colab_type": "code",
        "colab": {
          "base_uri": "https://localhost:8080/",
          "height": 35
        },
        "outputId": "a2df3373-8f1e-4c81-8965-0042cbbf7332"
      },
      "source": [
        "# First program\n",
        "print(\"Hello Lucas\")"
      ],
      "execution_count": null,
      "outputs": [
        {
          "output_type": "stream",
          "text": [
            "Hello Lucas\n"
          ],
          "name": "stdout"
        }
      ]
    },
    {
      "cell_type": "markdown",
      "metadata": {
        "id": "D2PAKIyG61Qw",
        "colab_type": "text"
      },
      "source": [
        "Aquí podemos ver nuestro primer programa en Python. Tan sencillo como escribir una línea de código para que se imprima en pantalla el mensaje que queramos. Al ser un lenguaje interpretado, permite realizar la traducción del lenguaje al código de máquina a medida que sea necesario, típicamente instrucción por instrucción, por lo que permite ejecutarse casi inmediatamente.\n",
        "Ahora te toca a ti, modifica el programa para que diga \"Hola, soy [tu nombre]\""
      ]
    },
    {
      "cell_type": "markdown",
      "metadata": {
        "id": "EVFnKy4gTeVb",
        "colab_type": "text"
      },
      "source": [
        "### Ejercicio (evaluación)"
      ]
    },
    {
      "cell_type": "markdown",
      "metadata": {
        "id": "hR7PiQKR013Q",
        "colab_type": "text"
      },
      "source": [
        "Escribe un script que asigne a una variable tu nombre para mostrarla en pantalla con una frase"
      ]
    },
    {
      "cell_type": "code",
      "metadata": {
        "id": "HrDXbFTnOKtU",
        "colab_type": "code",
        "colab": {}
      },
      "source": [
        "# TODO First program that holds a variable with your name and displays it with a sentence"
      ],
      "execution_count": null,
      "outputs": []
    },
    {
      "cell_type": "markdown",
      "metadata": {
        "colab_type": "text",
        "id": "Na9Sa6mpSVoq"
      },
      "source": [
        "#### Solución\n",
        "\n",
        "Haz click para ver el resultado"
      ]
    },
    {
      "cell_type": "code",
      "metadata": {
        "colab_type": "code",
        "id": "uW9-Qbh9SVor",
        "colab": {}
      },
      "source": [
        "name = \"Lucas Fernandez\"\n",
        "print(\"Hello, my name is \" + name)\n",
        "print(f\"Hello, my name is {name}\")\n",
        "print(\"Hello, my name is {0}\".format(name))"
      ],
      "execution_count": null,
      "outputs": []
    },
    {
      "cell_type": "markdown",
      "metadata": {
        "id": "KA-Nedxqy7KC",
        "colab_type": "text"
      },
      "source": [
        "### Identificadores\n",
        "\n"
      ]
    },
    {
      "cell_type": "markdown",
      "metadata": {
        "id": "e4tN92RCOV2g",
        "colab_type": "text"
      },
      "source": [
        "Los identificadores son nombres usados para identificar una variable, función, clase, módulo u otro objeto. Los identificadores pueden empezar con letras (A-Za-z), números (0-9) o una barra baja (_).\n",
        "\n",
        "Python es un lenguaje que distingue entre mayúsculas y minúsculas, por lo que **Variable** y **variable** son dos identificadores diferentes en *Python*.\n",
        "\n",
        "Hay una serie de convenciones para los identificadores en *Python*:\n",
        "\n",
        "\n",
        "*   Nombres de Clases empiezan en mayúsuclas. Los demás identificadores comienzan con minúsuclas\n",
        "*   Python usa snake case name_surname\n",
        "*   Empezar un identificador con una barra baja (_variable) siginifica que el identificador es privado\n",
        "*   Empezar con dos barras bajas (__variable) indica un identificador privado con fuerte referencia\n",
        "*   Si el identificador termina encima con otras dos barras bajas (\\__variable__) significa que es un [magic method](https://rszalski.github.io/magicmethods/)\n",
        "\n",
        "\n",
        "\n"
      ]
    },
    {
      "cell_type": "code",
      "metadata": {
        "id": "hdpGs26rSzz8",
        "colab_type": "code",
        "colab": {
          "base_uri": "https://localhost:8080/",
          "height": 135
        },
        "outputId": "2d587cf7-2c38-49fc-a2be-e61d1c4a3421"
      },
      "source": [
        "# Identifiers\n",
        "\n",
        "first_identifier = 10\n",
        "second_identifier = \"Hello\"\n",
        "_private_identifier = \"Private\"\n",
        "_my_variable = \"Private\"\n",
        "\n",
        "if __name__ == \"__main__\":\n",
        "  print(\"This is a magic method\")"
      ],
      "execution_count": null,
      "outputs": [
        {
          "output_type": "error",
          "ename": "SyntaxError",
          "evalue": "ignored",
          "traceback": [
            "\u001b[0;36m  File \u001b[0;32m\"<ipython-input-12-f72bfab59e30>\"\u001b[0;36m, line \u001b[0;32m8\u001b[0m\n\u001b[0;31m    yield = \"asdfasfd\"\u001b[0m\n\u001b[0m          ^\u001b[0m\n\u001b[0;31mSyntaxError\u001b[0m\u001b[0;31m:\u001b[0m invalid syntax\n"
          ]
        }
      ]
    },
    {
      "cell_type": "markdown",
      "metadata": {
        "id": "-1jp6SKqy-iI",
        "colab_type": "text"
      },
      "source": [
        "### Palabras reservadas\n",
        "\n"
      ]
    },
    {
      "cell_type": "markdown",
      "metadata": {
        "id": "yokx8PsJQBxK",
        "colab_type": "text"
      },
      "source": [
        "Hay una serie de palabras reservadas por el interprete que no deben ser asignadas como variables ya que crearían conflictos. Todas estas palabras reservadas son en minúsculas y tienen una función específica dentro del lenguaje.\n",
        "\n",
        "\n",
        "![resrved words](https://3.bp.blogspot.com/-Zc1r5281sZ8/Wj3OQD1NDZI/AAAAAAAAV1Q/VlfCsd2En3I6-oGbKSCbVH3Ze0rLZwY0wCLcBGAs/s640/reserve_words.png)"
      ]
    },
    {
      "cell_type": "markdown",
      "metadata": {
        "id": "oKa39rYQy_vd",
        "colab_type": "text"
      },
      "source": [
        "### Lineas e identación\n"
      ]
    },
    {
      "cell_type": "markdown",
      "metadata": {
        "id": "4RM0zgUFQ6LK",
        "colab_type": "text"
      },
      "source": [
        "Python no utiliza corchetes ({}) para indicar bloques de código dentro de las clases y funciones o control de flujo. En este lenguaje se utiliza la identación para indicar bloques, y se aplica sin ningún tipo de excepción.\n",
        "\n",
        "El número de  espacios puede variar dependiendo del intérprete (se suele elegir 2 o 4) pero una vez elegido debe respetarse, por ello este ejemplo no produce ningún error:"
      ]
    },
    {
      "cell_type": "code",
      "metadata": {
        "id": "m7jHD_aqSPhI",
        "colab_type": "code",
        "colab": {
          "base_uri": "https://localhost:8080/",
          "height": 35
        },
        "outputId": "7ddc987c-6015-473e-b9ac-7df3bb881e86"
      },
      "source": [
        "if True:\n",
        "  print(\"Success\")\n",
        "else:\n",
        "  print(\"Failed\")\n",
        "\n"
      ],
      "execution_count": null,
      "outputs": [
        {
          "output_type": "stream",
          "text": [
            "Success\n"
          ],
          "name": "stdout"
        }
      ]
    },
    {
      "cell_type": "markdown",
      "metadata": {
        "id": "DalLo6PYSVjt",
        "colab_type": "text"
      },
      "source": [
        "Mientras que si se cambian los espacios se producirá un error, como indicará el intérprete en este trozo de código:"
      ]
    },
    {
      "cell_type": "code",
      "metadata": {
        "id": "G0C-3EJ0SdUr",
        "colab_type": "code",
        "colab": {
          "base_uri": "https://localhost:8080/",
          "height": 71
        },
        "outputId": "ef7e395e-e2a6-429f-f466-10a8d88f0651"
      },
      "source": [
        "if True:\n",
        "  print(\"Sucess\")\n",
        "else:\n",
        "  print(\"Failed\")"
      ],
      "execution_count": null,
      "outputs": [
        {
          "output_type": "stream",
          "text": [
            "Sucess\n",
            "Sucess\n",
            "Sucess\n"
          ],
          "name": "stdout"
        }
      ]
    },
    {
      "cell_type": "markdown",
      "metadata": {
        "id": "CvvtoTAXSo03",
        "colab_type": "text"
      },
      "source": [
        "No es necesario que entiendas la lógica del programa en este momento, solo la importancia de la identación y como puede variar. Hay excepciones que se pueden aplicar.\n",
        "\n",
        "Por mejorar la legibilidad del código se permite utilizar el carácter de continuación de linea (\\\\) para encadenar una misma linea: "
      ]
    },
    {
      "cell_type": "code",
      "metadata": {
        "id": "7o8pMygTTFOd",
        "colab_type": "code",
        "colab": {
          "base_uri": "https://localhost:8080/",
          "height": 35
        },
        "outputId": "5b77258f-b004-4567-8563-240abef9e301"
      },
      "source": [
        "total = 1 + \\\n",
        "  2 + \\\n",
        "  3\n",
        "\n",
        "print(total)"
      ],
      "execution_count": null,
      "outputs": [
        {
          "output_type": "stream",
          "text": [
            "6\n"
          ],
          "name": "stdout"
        }
      ]
    },
    {
      "cell_type": "markdown",
      "metadata": {
        "id": "ux7Fx1y1TO46",
        "colab_type": "text"
      },
      "source": [
        "Además, hay algunos elementos como listas o diccionarios que pueden partirse sin necesidad de este caracter especial:"
      ]
    },
    {
      "cell_type": "code",
      "metadata": {
        "id": "9LgHkYoWTVzl",
        "colab_type": "code",
        "colab": {
          "base_uri": "https://localhost:8080/",
          "height": 35
        },
        "outputId": "160e1597-0d5e-479b-bc3f-37a552de7862"
      },
      "source": [
        "days_week = ['Monday', 'Tuesday', \n",
        "             'Wednesday', 'Thursday', \n",
        "             'Friday']\n",
        "print(days_week)"
      ],
      "execution_count": null,
      "outputs": [
        {
          "output_type": "stream",
          "text": [
            "['Monday', 'Tuesday', 'Wednesday', 'Thursday', 'Friday']\n"
          ],
          "name": "stdout"
        }
      ]
    },
    {
      "cell_type": "markdown",
      "metadata": {
        "id": "cLxlHPVtzBD2",
        "colab_type": "text"
      },
      "source": [
        "### **Comentarios**"
      ]
    },
    {
      "cell_type": "markdown",
      "metadata": {
        "id": "DwxGP42iTfDI",
        "colab_type": "text"
      },
      "source": [
        "El símbolo de la almohadilla (#) representa un comentario en Python, toda cadena que precede a este símbolo en una misma linea es considerado un comentario en Python y es tratado así por el interprete."
      ]
    },
    {
      "cell_type": "code",
      "metadata": {
        "id": "apNwLm3RUCLv",
        "colab_type": "code",
        "colab": {}
      },
      "source": [
        "# This is a comment\n",
        "\n",
        "test = \"string\" # You can place a comment after a line of code \n",
        "\n",
        "# You can also concatenate multiple lines\n",
        "# of comments like this\n",
        "\n"
      ],
      "execution_count": null,
      "outputs": []
    },
    {
      "cell_type": "markdown",
      "metadata": {
        "id": "nJiRq3viUTbt",
        "colab_type": "text"
      },
      "source": [
        "Además de esto, *Python* tiene reservado las triples comillas (''') para interpretarlo como un comentario de un número indefinido de lineas"
      ]
    },
    {
      "cell_type": "code",
      "metadata": {
        "id": "W5D-3ie6Ucgp",
        "colab_type": "code",
        "colab": {}
      },
      "source": [
        "'''\n",
        "This is a multiline comment\n",
        "You can write multiple statements between the quotes\n",
        "\n",
        "And leave spaces and special characters\n",
        "'''\n"
      ],
      "execution_count": null,
      "outputs": []
    },
    {
      "cell_type": "markdown",
      "metadata": {
        "id": "HDHojXQj7Ey1",
        "colab_type": "text"
      },
      "source": [
        "## Variables y Tipos\n"
      ]
    },
    {
      "cell_type": "markdown",
      "metadata": {
        "id": "h-RPP-XnxH-m",
        "colab_type": "text"
      },
      "source": [
        "Las variables en *Python* no necesitan ser declaradas para reservar memoria. Esta declaración ocurre automáticamente cuando se asigna un valor a una variable.\n",
        "\n",
        "El simbolo *igual* (=) se utiliza para asignar valores a variables, siendo el item de la izquierda el nombre de la variable y el item de la derecha el valor que se va a asignar.\n"
      ]
    },
    {
      "cell_type": "code",
      "metadata": {
        "id": "xX0keeZb86ox",
        "colab_type": "code",
        "colab": {
          "base_uri": "https://localhost:8080/",
          "height": 71
        },
        "outputId": "084d8583-53c0-4f08-d0b9-8d561f9b1cb4"
      },
      "source": [
        "# Variable asignment\n",
        "pi_number = 100\n",
        "pi_string = \"String example\"\n",
        "pi_list = [10, 20, 30]\n",
        "\n",
        "# Output variables\n",
        "print(pi_number)\n",
        "print(pi_string)\n",
        "print(pi_list)"
      ],
      "execution_count": null,
      "outputs": [
        {
          "output_type": "stream",
          "text": [
            "100\n",
            "String example\n",
            "[10, 20, 30]\n"
          ],
          "name": "stdout"
        }
      ]
    },
    {
      "cell_type": "markdown",
      "metadata": {
        "colab_type": "text",
        "id": "B3cxR0XXTnu4"
      },
      "source": [
        "### Ejercicio (evaluación)\n"
      ]
    },
    {
      "cell_type": "markdown",
      "metadata": {
        "id": "HSGi7r4z16f2",
        "colab_type": "text"
      },
      "source": [
        "Escribe una variable pública y otra privada según el convenio seguido en Python. Imprime ambos resultados por pantalla."
      ]
    },
    {
      "cell_type": "code",
      "metadata": {
        "colab_type": "code",
        "id": "MntQKIgbTnu5",
        "colab": {}
      },
      "source": [
        "# TODO Write one public variable and one private variable and display both"
      ],
      "execution_count": null,
      "outputs": []
    },
    {
      "cell_type": "markdown",
      "metadata": {
        "colab_type": "text",
        "id": "1-l6bivNTnu6"
      },
      "source": [
        "#### Solución\n",
        "\n",
        "Haz click para ver el resultado"
      ]
    },
    {
      "cell_type": "code",
      "metadata": {
        "colab_type": "code",
        "id": "DsEFDgisTnu7",
        "colab": {}
      },
      "source": [
        "public_variable = 40\n",
        "_private_variable = \"secret\"\n",
        "print(public_variable)\n",
        "print(_private_variable)"
      ],
      "execution_count": null,
      "outputs": []
    },
    {
      "cell_type": "markdown",
      "metadata": {
        "id": "JhAa5Ikc8ccd",
        "colab_type": "text"
      },
      "source": [
        "\n",
        "## Números"
      ]
    },
    {
      "cell_type": "markdown",
      "metadata": {
        "id": "0Ra_zkiRyLtv",
        "colab_type": "text"
      },
      "source": [
        "El primer tipo de dato en *Python* que vamos a ver son números. Los números son objetos creados cuando asignas un valor numérico a una variable.\n",
        "\n",
        "*Python* soporta tres tipos de números:\n",
        "\n",
        "\n",
        "*   int: Enteros con signo (Python 3 aúna int y long)\n",
        "*   float: Números reales con coma flotante\n",
        "*   complex: Números complejos\n"
      ]
    },
    {
      "cell_type": "code",
      "metadata": {
        "id": "4P8uPS_H8fYA",
        "colab_type": "code",
        "colab": {}
      },
      "source": [
        "# Number examples\n",
        "\n",
        "# Integer\n",
        "int_number = 10\n",
        "int_number_2 = -400\n",
        "int_number_3 = 0x69\n",
        "int_number_4 = -0x259\n",
        "\n",
        "# Float\n",
        "float_number = 12.40\n",
        "float_number_2 = -25.3\n",
        "float_number_3 = 45.2e18\n",
        "float_number_4 = 70.2E12\n",
        "\n",
        "# Complex\n",
        "complex_number = 3.14j\n",
        "complex_number_2 = 9.322e-36j\n"
      ],
      "execution_count": null,
      "outputs": []
    },
    {
      "cell_type": "markdown",
      "metadata": {
        "id": "VB1GGlM801iy",
        "colab_type": "text"
      },
      "source": [
        "Algunas de las operaciones más importantes se pueden ver en su [documentación oficial](https://docs.python.org/3/library/stdtypes.html#numeric-types-int-float-complex)"
      ]
    },
    {
      "cell_type": "markdown",
      "metadata": {
        "colab_type": "text",
        "id": "78vX2kGcUAVL"
      },
      "source": [
        "### Ejercicio (evaluación)\n"
      ]
    },
    {
      "cell_type": "markdown",
      "metadata": {
        "id": "McI5FY0e2HxS",
        "colab_type": "text"
      },
      "source": [
        "Escribe algunas variables con enteros, con coma flotante y complejos. Convierte los números con coma flotante y complejos en entero e imprime por pantalla."
      ]
    },
    {
      "cell_type": "code",
      "metadata": {
        "colab_type": "code",
        "id": "6KrCDEseUAVL",
        "colab": {
          "base_uri": "https://localhost:8080/",
          "height": 35
        },
        "outputId": "230ae89b-af0c-4ec9-9189-b4dcb74c8c90"
      },
      "source": [
        "# TODO Write some variables with int, float and complex numbers and cast complex into integer\n",
        "\n",
        "int_number = 17\n",
        "int_number1 = 3\n",
        "\n",
        "a = int_number + int_number1\n",
        "print(a)"
      ],
      "execution_count": null,
      "outputs": [
        {
          "output_type": "stream",
          "text": [
            "20\n"
          ],
          "name": "stdout"
        }
      ]
    },
    {
      "cell_type": "markdown",
      "metadata": {
        "colab_type": "text",
        "id": "Ep-9gSOPUAVM"
      },
      "source": [
        "#### Solución\n",
        "\n",
        "Haz click para ver el resultado"
      ]
    },
    {
      "cell_type": "code",
      "metadata": {
        "colab_type": "code",
        "id": "9Sh7LqzUUAVN",
        "colab": {}
      },
      "source": [
        "int_number = 300\n",
        "float_number = 42.30\n",
        "complex_number = 9.322e-36j\n",
        "\n",
        "float_int_number = int(float_number)\n",
        "complex_int_number = int(complex_number.real)\n",
        "print(float_int_number)\n",
        "print(complex_int_number)"
      ],
      "execution_count": null,
      "outputs": []
    },
    {
      "cell_type": "markdown",
      "metadata": {
        "id": "GKMBIsIQ8jzm",
        "colab_type": "text"
      },
      "source": [
        "\n",
        "## Cadenas\n",
        "\n"
      ]
    },
    {
      "cell_type": "markdown",
      "metadata": {
        "id": "pnlgUDGw0Fxk",
        "colab_type": "text"
      },
      "source": [
        "Las cadenas en Python se definen como una concatenación de caracteres representados entre comillas. Dentro de *Python* se pueden usar comillas simples ( ' ) o dobles ( \" ) para representar cadenas."
      ]
    },
    {
      "cell_type": "code",
      "metadata": {
        "id": "LyqTQuJQ8l2F",
        "colab_type": "code",
        "colab": {
          "base_uri": "https://localhost:8080/",
          "height": 71
        },
        "outputId": "19de74ad-738c-4c52-d890-208b4e52345f"
      },
      "source": [
        "# String examples\n",
        "name_person = 'Hello World👌'\n",
        "char = \"H\"\n",
        "str_2 = \"Hello World again\"\n",
        "\n",
        "print(char)\n",
        "print(str_2)\n",
        "print(name_person)"
      ],
      "execution_count": null,
      "outputs": [
        {
          "output_type": "stream",
          "text": [
            "H\n",
            "Hello World again\n",
            "Hello World👌\n"
          ],
          "name": "stdout"
        }
      ]
    },
    {
      "cell_type": "markdown",
      "metadata": {
        "id": "_XAlx7INxYn3",
        "colab_type": "text"
      },
      "source": [
        "Una diferencia importante con otros lenguajes de programación es que *Python*  es que no existe el tipo de *Caracter*, estos son tratados como *Cadenas* de longitud 1.\n",
        "\n",
        "Otra propiedad importante de las *Cadenas* en *Python* es que tienen una forma sencilla de acceder a cadenas más sencillas o sub-cadenas."
      ]
    },
    {
      "cell_type": "code",
      "metadata": {
        "id": "oGq47DOnyhfW",
        "colab_type": "code",
        "colab": {
          "base_uri": "https://localhost:8080/",
          "height": 53
        },
        "outputId": "3a364ff8-2d4d-4b42-e0be-ccf903fe2644"
      },
      "source": [
        "# Substrings\n",
        "\n",
        "str1 = 'Hello World'\n",
        "str2 = 'Hello World again'\n",
        "\n",
        "print(str1[0]) # Prints first char\n",
        "print(str2[:6]) # Prints substring from second to sixth character"
      ],
      "execution_count": null,
      "outputs": [
        {
          "output_type": "stream",
          "text": [
            "H\n",
            "Hello \n"
          ],
          "name": "stdout"
        }
      ]
    },
    {
      "cell_type": "markdown",
      "metadata": {
        "id": "fylAKUtKzIAg",
        "colab_type": "text"
      },
      "source": [
        "Hay una serie  de identificadores reservados que añaden función a las cadenas"
      ]
    },
    {
      "cell_type": "code",
      "metadata": {
        "id": "B7H7ECwEzdlR",
        "colab_type": "code",
        "colab": {
          "base_uri": "https://localhost:8080/",
          "height": 143
        },
        "outputId": "f940fd3d-6440-46f5-d173-7c6bd41a1b66"
      },
      "source": [
        "# Declaration\n",
        "first_string = \", soy Lucas\"\n",
        "\n",
        "# Concatenation\n",
        "str_concat = \"Hola\" + \", que tal\" + first_string\n",
        "print(str_concat)\n",
        "\n",
        "# Repetition\n",
        "str_rep = str_concat * 2\n",
        "print(str_rep)\n",
        "\n",
        "# Slice\n",
        "str_one = str_concat[3]\n",
        "print(str_one)\n",
        "\n",
        "# Range Slice\n",
        "str_slice = str_concat[1:4]\n",
        "print(str_slice)\n",
        "\n",
        "# Equality\n",
        "str_equal = \"Hola\" == str_concat\n",
        "print(str_equal)\n",
        "\n",
        "# Membership\n",
        "str_member = \"Hola\" in str_concat # return True or False\n",
        "print(str_member)\n",
        "\n",
        "# Negative Membership\n",
        "str_not_member = \"Hola\" not in str_concat # return True or False\n",
        "print(str_not_member)\n"
      ],
      "execution_count": null,
      "outputs": [
        {
          "output_type": "stream",
          "text": [
            "Hola, que tal, soy Lucas\n",
            "Hola, que tal, soy LucasHola, que tal, soy Lucas\n",
            "a\n",
            "ola\n",
            "False\n",
            "True\n",
            "False\n"
          ],
          "name": "stdout"
        }
      ]
    },
    {
      "cell_type": "markdown",
      "metadata": {
        "id": "_EKod0Ah1EIr",
        "colab_type": "text"
      },
      "source": [
        "Es posible dar formato al texto de diferentes formas, algunas incorporadas en las últimas versiones de python."
      ]
    },
    {
      "cell_type": "code",
      "metadata": {
        "id": "AlHfOfiq1J8S",
        "colab_type": "code",
        "colab": {
          "base_uri": "https://localhost:8080/",
          "height": 71
        },
        "outputId": "ca862d03-26d4-45bc-ac09-9b7e9549c297"
      },
      "source": [
        "# First form interpolation\n",
        "interpolation1 = \"Soy %s y tengo %d años\" % (\"Wilber\", 32)\n",
        "print(interpolation1)\n",
        "\n",
        "# Second form interpolation\n",
        "interpolation2 = \"Hello world I'm {0} and I'm {1} years old\".format(\"Wilber\", 32)\n",
        "print(interpolation2)\n",
        "\n",
        "# Third form interpolation (Python 3.6)\n",
        "name = \"Wilber\"\n",
        "age = 32\n",
        "interpolation3 = f\"Hello world I'm {name} and I'm {age} years old\"\n",
        "print(interpolation3)"
      ],
      "execution_count": null,
      "outputs": [
        {
          "output_type": "stream",
          "text": [
            "Soy Wilber y tengo 32 años\n",
            "Hello world I'm Wilber and I'm 32 years old\n",
            "Hello world I'm Wilber and I'm 32 years old\n"
          ],
          "name": "stdout"
        }
      ]
    },
    {
      "cell_type": "markdown",
      "metadata": {
        "id": "FjMVV7rU3p4Q",
        "colab_type": "text"
      },
      "source": [
        "Artículo sobre los distintos métodos de interpolación: \n",
        "\n",
        "https://realpython.com/python-f-strings/\n"
      ]
    },
    {
      "cell_type": "markdown",
      "metadata": {
        "id": "fqxkWXa46OsI",
        "colab_type": "text"
      },
      "source": [
        "Dentro de las cadenas hay carácteres especiales para dar formato al texto;\n",
        "\n",
        "*   Caracter de escape:   ```\\```\n",
        "\n",
        "*   Comillas simples y comillas dobles:   ```\\' \\\"```\n",
        "\n",
        "*   Salto de linea:   ```\\n```\n",
        "\n",
        "*   Tabulación:   ```\\t```\n",
        "\n",
        "\n",
        "\n"
      ]
    },
    {
      "cell_type": "markdown",
      "metadata": {
        "colab_type": "text",
        "id": "h0ly39bHW5P-"
      },
      "source": [
        "### Ejercicio (evaluación)\n"
      ]
    },
    {
      "cell_type": "markdown",
      "metadata": {
        "id": "var4hdJw2hm5",
        "colab_type": "text"
      },
      "source": [
        "En esta ocasión vamos a hacer varios ejercicios:\n",
        "\n",
        "\n",
        "\n",
        "*   Escribir varias variables que sean cadenas de caracteres\n",
        "*   Concatenar varias de ellas con interpolación de cadenas\n",
        "*   Coger la sub-cadena de una de las cadenas principales\n",
        "*   Ver si la sub-cadena está en la cadena principal\n",
        "*   Comparar si una cadena (inventada, sin relación con la cadena principal) está contenida en la cadena principal\n",
        "\n"
      ]
    },
    {
      "cell_type": "code",
      "metadata": {
        "colab_type": "code",
        "id": "jCvNwoScW5QE",
        "colab": {}
      },
      "source": [
        "# TODO Write some variables with string\n",
        "\n",
        "\n",
        "# Concatenate few of them with interpolation\n",
        "\n",
        "\n",
        "# Get a substring from one of the main strings\n",
        "\n",
        "\n",
        "# Check if this stirng is in the main string\n",
        "\n",
        "\n",
        "# Check if other random string is in the main string\n",
        "\n",
        "\n",
        "# Print the followin text with the given result\n",
        "'''\n",
        "Hola mundo, empiezo a escribir.\n",
        "\t\tHe dejado dos espacios tabulados en esta frase.\n",
        "\tMe despido.\n",
        "'''\n",
        "\n",
        "# Slice this String by the given character: \".\"\n",
        "\"Hello I'm a Programmer. I want to slice this text. If only Python could support a function for slicing by a given character.\""
      ],
      "execution_count": null,
      "outputs": []
    },
    {
      "cell_type": "markdown",
      "metadata": {
        "colab_type": "text",
        "id": "M5ObH7siW5QG"
      },
      "source": [
        "#### Solución\n",
        "\n",
        "Haz click para ver el resultado"
      ]
    },
    {
      "cell_type": "code",
      "metadata": {
        "colab_type": "code",
        "id": "baW5iQAPW5QG",
        "colab": {}
      },
      "source": [
        "# TODO Write some variables with string\n",
        "first_string = \"Hello World, I'm Lucas\"\n",
        "second_string = \"Hello again, I'm coding\"\n",
        "\n",
        "# Concatenate few of them with interpolation\n",
        "mix_string = f\"{first_string} || {second_string}\"\n",
        "other_interpolation = \"First string: {}\".format(first_string)\n",
        "print(mix_string)\n",
        "print(other_interpolation)\n",
        "\n",
        "\n",
        "# Get a substring from one of the main strings\n",
        "sub_first_string = first_string[1:5]\n",
        "print(sub_first_string)\n",
        "\n",
        "\n",
        "# Check if this stirng is in the main string\n",
        "check_string = sub_first_string in first_string\n",
        "print(check_string)\n",
        "\n",
        "# Check if other random string is in the main string\n",
        "check_rand_string = \"fasfd asdf\" in first_string\n",
        "print(check_rand_string)\n",
        "\n",
        "# Print the followin text with the given result\n",
        "'''\n",
        "Hola mundo, empiezo a escribir.\n",
        "\t\tHe dejado dos espacios tabulados en esta frase.\n",
        "\tMe despido.\n",
        "'''\n",
        "print(\"Hola mundo, empiezo a escribir.\\n\\t\\tHe dejado dos espacios tabulados en esta frase.\\n\\tMe despido.\")"
      ],
      "execution_count": null,
      "outputs": []
    },
    {
      "cell_type": "markdown",
      "metadata": {
        "id": "j7Cl9DOb8nvN",
        "colab_type": "text"
      },
      "source": [
        "\n",
        "## Listas\n",
        "\n"
      ]
    },
    {
      "cell_type": "markdown",
      "metadata": {
        "id": "0dFymKqbqgYt",
        "colab_type": "text"
      },
      "source": [
        "Las listas son colecciones ordenadas de elementos que pueden no ser del mismo tipo. En python las listas se definen con valores separados por comas contenidos entre corchetes."
      ]
    },
    {
      "cell_type": "code",
      "metadata": {
        "id": "4ptZAdURrCiW",
        "colab_type": "code",
        "colab": {
          "base_uri": "https://localhost:8080/",
          "height": 71
        },
        "outputId": "3169abca-93c5-4d8e-a71b-9163bab9e3e6"
      },
      "source": [
        "list_example_strings = [\"Hello\", \"World\", \"I'm\", \n",
        "                        \"John\"]\n",
        "print(list_example_strings)\n",
        "list_example_number = [1,2,3,4,5,6]\n",
        "print(list_example_number)\n",
        "list_example_mix = [\"Hello\", 2, \"Number\", 16]\n",
        "print(list_example_mix)\n"
      ],
      "execution_count": null,
      "outputs": [
        {
          "output_type": "stream",
          "text": [
            "['Hello', 'World', \"I'm\", 'John']\n",
            "[1, 2, 3, 4, 5, 6]\n",
            "['Hello', 2, 'Number', 16]\n"
          ],
          "name": "stdout"
        }
      ]
    },
    {
      "cell_type": "markdown",
      "metadata": {
        "id": "IFL95y4UrlMX",
        "colab_type": "text"
      },
      "source": [
        "**Acceder a valores**\n",
        "\n",
        "Para aceder al valor de una lista, llamamos al nombre de la variable seguido con el índice entre corchetes que queremos obtener."
      ]
    },
    {
      "cell_type": "code",
      "metadata": {
        "id": "z0djxvaAr7DS",
        "colab_type": "code",
        "colab": {
          "base_uri": "https://localhost:8080/",
          "height": 71
        },
        "outputId": "e2a2f4c4-495c-450b-fd7e-d5eb6adf9060"
      },
      "source": [
        "element1 = list_example_strings[0]\n",
        "print(element1)\n",
        "# You can also acess range of element generating sublist\n",
        "sub_list = list_example_number[0:2]\n",
        "print(sub_list)\n",
        "sub_list_2 = list_example_number[1:]\n",
        "print(sub_list_2)\n"
      ],
      "execution_count": null,
      "outputs": [
        {
          "output_type": "stream",
          "text": [
            "Hello\n",
            "[1, 2, 3, 4, 5, 6]\n",
            "[2, 3, 4, 5, 6]\n"
          ],
          "name": "stdout"
        }
      ]
    },
    {
      "cell_type": "markdown",
      "metadata": {
        "id": "LyhFa6fnsTXe",
        "colab_type": "text"
      },
      "source": [
        "Si accedes a un índice superior al conjunto de la lista se produce un error."
      ]
    },
    {
      "cell_type": "code",
      "metadata": {
        "id": "_Rn07ZSfsY2_",
        "colab_type": "code",
        "colab": {
          "base_uri": "https://localhost:8080/",
          "height": 35
        },
        "outputId": "715d99d2-01b6-4410-af4e-91c1ba6fe17f"
      },
      "source": [
        "# Error\n",
        "element_fail = list_example_strings[3]\n",
        "print(element_fail)"
      ],
      "execution_count": null,
      "outputs": [
        {
          "output_type": "stream",
          "text": [
            "John\n"
          ],
          "name": "stdout"
        }
      ]
    },
    {
      "cell_type": "markdown",
      "metadata": {
        "id": "CK--OZb8Nble",
        "colab_type": "text"
      },
      "source": [
        "**Añadir un elemento**\n",
        "\n",
        "Para añadir un elemento dentro de una lista en Python podremos utilizar varias funciones, dependiendo de si queremos añadirlo al final de la cola, en una posición determinada o si queremos agregar otra lista a la anterior."
      ]
    },
    {
      "cell_type": "code",
      "metadata": {
        "id": "HGekV2OpPeO0",
        "colab_type": "code",
        "colab": {
          "base_uri": "https://localhost:8080/",
          "height": 71
        },
        "outputId": "82d71eae-08c3-450a-e9d3-094cf86ecfe7"
      },
      "source": [
        "first_list = [\"Hello\", \"World\"]\n",
        "first_list.append(\"Again\")\n",
        "print(first_list)\n",
        "second_list = [\"Hello\", \"Again\"]\n",
        "second_list.insert(1, \"World\")\n",
        "print(second_list)\n",
        "first_list.extend(second_list)\n",
        "print(first_list)\n",
        "# first_list.append(second_list)\n",
        "# print(first_list[3])"
      ],
      "execution_count": null,
      "outputs": [
        {
          "output_type": "stream",
          "text": [
            "['Hello', 'World', 'Again']\n",
            "['Hello', 'World', 'Again']\n",
            "['Hello', 'World', 'Again', 'Hello', 'World', 'Again']\n"
          ],
          "name": "stdout"
        }
      ]
    },
    {
      "cell_type": "markdown",
      "metadata": {
        "id": "cxcyN7yMQDTU",
        "colab_type": "text"
      },
      "source": [
        "**Eliminar un elemento**\n",
        "\n",
        "Para eliminar un elemento, puedes usar la palabra reservada *del* para eliminar por posición o el método *remove()* para eliminar el objeto."
      ]
    },
    {
      "cell_type": "code",
      "metadata": {
        "id": "4miRxmOPSc79",
        "colab_type": "code",
        "colab": {
          "base_uri": "https://localhost:8080/",
          "height": 53
        },
        "outputId": "d69305e6-0c1f-4b84-dc90-3e727ae34312"
      },
      "source": [
        "first_list_del = [\"Hello\", \n",
        "                  \"World\", \n",
        "                  \"Again\"]\n",
        "first_list_del.remove(\"Hello\")\n",
        "print(first_list_del)\n",
        "second_list_del = [\"Hello\", \"World\", \"Again\"]\n",
        "del second_list_del[2]\n",
        "print(second_list_del)"
      ],
      "execution_count": null,
      "outputs": [
        {
          "output_type": "stream",
          "text": [
            "['World', 'Again']\n",
            "['Hello', 'World']\n"
          ],
          "name": "stdout"
        }
      ]
    },
    {
      "cell_type": "markdown",
      "metadata": {
        "id": "7nGa8V-ZW_3s",
        "colab_type": "text"
      },
      "source": [
        "**Actualizar un elemento**\n",
        "\n",
        "Accediendo a la posición de una lista podemos actualizar sus elementos"
      ]
    },
    {
      "cell_type": "code",
      "metadata": {
        "id": "MBSHz07HXU_I",
        "colab_type": "code",
        "colab": {
          "base_uri": "https://localhost:8080/",
          "height": 53
        },
        "outputId": "600a78a4-2c02-4e57-efe7-c2f12738e543"
      },
      "source": [
        "# First list\n",
        "updating_list = [\"Hello\", \"World\", 2017]\n",
        "print(updating_list)\n",
        "# Updating list\n",
        "updating_list[2] = 2020\n",
        "print(updating_list)"
      ],
      "execution_count": null,
      "outputs": [
        {
          "output_type": "stream",
          "text": [
            "['Hello', 'World', 2017]\n",
            "['Hello', 'World', 2020]\n"
          ],
          "name": "stdout"
        }
      ]
    },
    {
      "cell_type": "markdown",
      "metadata": {
        "id": "DQMfpPHGX6Hw",
        "colab_type": "text"
      },
      "source": [
        "**Operadores elementales**\n",
        "\n",
        "Hay ciertos operadores elementales que pueden modificar el comportamiento de las listas en Python"
      ]
    },
    {
      "cell_type": "code",
      "metadata": {
        "id": "orBtiJO9YDt2",
        "colab_type": "code",
        "colab": {
          "base_uri": "https://localhost:8080/",
          "height": 161
        },
        "outputId": "2dbc8b5e-ba43-4210-9547-8ee0281cec5e"
      },
      "source": [
        "list_string = [\"Hello\", \"World\", \"Again\"]\n",
        "list_numbers = [1, 2, 3]\n",
        "\n",
        "# Get length\n",
        "print(len(list_string))\n",
        "\n",
        "# Concatenate 2 list\n",
        "print(list_string + list_numbers)\n",
        "\n",
        "# Repetition of list\n",
        "print(list_string * 3)\n",
        "\n",
        "# Check membership\n",
        "print(\"Hello\" in list_string)\n",
        "print(5 in list_numbers)\n",
        "\n",
        "# Iteration\n",
        "for x in list_string:\n",
        "  print(x)"
      ],
      "execution_count": null,
      "outputs": [
        {
          "output_type": "stream",
          "text": [
            "3\n",
            "['Hello', 'World', 'Again', 1, 2, 3]\n",
            "['Hello', 'World', 'Again', 'Hello', 'World', 'Again', 'Hello', 'World', 'Again']\n",
            "True\n",
            "False\n",
            "Hello\n",
            "World\n",
            "Again\n"
          ],
          "name": "stdout"
        }
      ]
    },
    {
      "cell_type": "markdown",
      "metadata": {
        "id": "I73_wpiYY_yd",
        "colab_type": "text"
      },
      "source": [
        "**Slicing, indices y matrices**\n",
        "\n",
        "Las listas son secuencias, al igual que las tuplas y las cadenas de texto, por lo que las operaciones de indexación y *slicing* son las mismas\n"
      ]
    },
    {
      "cell_type": "code",
      "metadata": {
        "id": "TejsntJcGzFG",
        "colab_type": "code",
        "colab": {}
      },
      "source": [
        "list_example = [\"Hello\", \"World\", \"I'm\", \"John\"]\n",
        "\n",
        "# Simple indexing\n",
        "simple_index = list_example[1]\n",
        "print(simple_index)\n",
        "\n",
        "# Negative indexing\n",
        "negative_index = list_example[-1]\n",
        "print(negative_index)\n",
        "\n",
        "# Slicing\n",
        "slicing = list_example[1:]\n",
        "print(slicing)"
      ],
      "execution_count": null,
      "outputs": []
    },
    {
      "cell_type": "markdown",
      "metadata": {
        "colab_type": "text",
        "id": "n-9MhT6aKPZK"
      },
      "source": [
        "### Ejercicio (evaluación)\n"
      ]
    },
    {
      "cell_type": "code",
      "metadata": {
        "colab_type": "code",
        "id": "qP77A73-KPZM",
        "colab": {
          "base_uri": "https://localhost:8080/",
          "height": 71
        },
        "outputId": "7b2e3ba9-a16b-4992-95da-c59586a7097c"
      },
      "source": [
        "Lenguajes = \"Python, JS, Deno, Typescript, Rust, Go\"\n",
        "slicing1 = Lenguajes[0:10]\n",
        "slicing2 = Lenguajes[12:38]\n",
        "print(slicing)\n",
        "print(slicing2)\n",
        "estaono = \"Python\" in slicing1\n",
        "print(estaono)"
      ],
      "execution_count": null,
      "outputs": [
        {
          "output_type": "stream",
          "text": [
            "Python, JS\n",
            "Deno, Typescript, Rust, Go\n",
            "True\n"
          ],
          "name": "stdout"
        }
      ]
    },
    {
      "cell_type": "markdown",
      "metadata": {
        "colab_type": "text",
        "id": "yeVGshMWKPZO"
      },
      "source": [
        "#### Solución\n",
        "\n",
        "Haz click para ver el resultado"
      ]
    },
    {
      "cell_type": "code",
      "metadata": {
        "colab_type": "code",
        "id": "VyWqb_84KPZO",
        "colab": {}
      },
      "source": [
        "# TODO write some variables holding lists, both empty and populated\n",
        "empty_list = []\n",
        "car_list = [\"Opel\", \"Renault\", \"Citroen\", \"Ford\"]\n",
        "\n",
        "# Add few elements to the empty list\n",
        "empty_list.append(1)\n",
        "empty_list.append(2)\n",
        "print(empty_list)\n",
        "\n",
        "# Check if the empty list is now empty (returning boolean)\n",
        "check_one = len(empty_list) == 0\n",
        "check_two = not empty_list\n",
        "print(check_one)\n",
        "print(check_two)\n",
        "\n",
        "# Get a sublist of one of the non-empty lists\n",
        "subcar_list = car_list[:2]\n",
        "print(subcar_list)\n",
        "\n",
        "# Concatenate the result with the empty list\n",
        "new_list = subcar_list + empty_list\n",
        "print(new_list)\n",
        "\n",
        "# Check if one of the followin elements are in the concatenated list: 1, \"hello\", \"world\"\n",
        "print(1 in new_list)\n",
        "print(\"hello\" in new_list)\n",
        "print(\"world\" in new_list)"
      ],
      "execution_count": null,
      "outputs": []
    },
    {
      "cell_type": "markdown",
      "metadata": {
        "id": "NQFVcRwI8rkp",
        "colab_type": "text"
      },
      "source": [
        "\n",
        "## Tuplas\n"
      ]
    },
    {
      "cell_type": "markdown",
      "metadata": {
        "id": "s0pmF0vgHof-",
        "colab_type": "text"
      },
      "source": [
        "Las tuplas son secuencias inmutables de objetos en Python. Son muy parecidas a las listas con la diferencia que las listas es un conjunto de elementos variables mientras que las tuplas son inmutables. Para crear una tupla, se definen unos valores separados por comas contenidos entre paréntesis."
      ]
    },
    {
      "cell_type": "code",
      "metadata": {
        "id": "m4tN1bWyJ61b",
        "colab_type": "code",
        "colab": {
          "base_uri": "https://localhost:8080/",
          "height": 107
        },
        "outputId": "7c8fa66d-3cd0-4c12-ebc7-06820de0fdeb"
      },
      "source": [
        "# Tuple examples\n",
        "tuple_example_strings = (\"Hello\", \"World\", \n",
        "                         \"I'm\", \"John\")\n",
        "print(tuple_example_strings)\n",
        "tuple_example_number = (1,2,3,4,5,6)\n",
        "print(tuple_example_number)\n",
        "tuple_example_mix = (\"Hello\", 2, \"Number\", 16)\n",
        "print(tuple_example_mix)\n",
        "another_tuple = tuple()\n",
        "print(another_tuple)\n",
        "\n",
        "tuple_not_parentesis = \"hello\", \"world\"\n",
        "print(tuple_not_parentesis)"
      ],
      "execution_count": null,
      "outputs": [
        {
          "output_type": "stream",
          "text": [
            "('Hello', 'World', \"I'm\", 'John')\n",
            "(1, 2, 3, 4, 5, 6)\n",
            "('Hello', 2, 'Number', 16)\n",
            "()\n",
            "('hello', 'world')\n"
          ],
          "name": "stdout"
        }
      ]
    },
    {
      "cell_type": "markdown",
      "metadata": {
        "id": "Y53kJ5itJt4L",
        "colab_type": "text"
      },
      "source": [
        "Las tuplas, al ser inmutables, no pueden **actualizar** ni **eliminar** elementos ya definidos, solo es posible acceder a sus valores."
      ]
    },
    {
      "cell_type": "code",
      "metadata": {
        "id": "sMGdq-yxKn7_",
        "colab_type": "code",
        "colab": {
          "base_uri": "https://localhost:8080/",
          "height": 53
        },
        "outputId": "d9dc0b77-4335-4494-f410-0272ca9f4c11"
      },
      "source": [
        "# Index\n",
        "element_1 = tuple_example_strings[0]\n",
        "print(element_1)\n",
        "\n",
        "# Slicing\n",
        "mult_elements = tuple_example_number[:3]\n",
        "print(mult_elements)\n"
      ],
      "execution_count": null,
      "outputs": [
        {
          "output_type": "stream",
          "text": [
            "Hello\n",
            "(1, 2, 3)\n"
          ],
          "name": "stdout"
        }
      ]
    },
    {
      "cell_type": "markdown",
      "metadata": {
        "id": "X6KTOYYGLSKV",
        "colab_type": "text"
      },
      "source": [
        "Las tuplas también pueden definirse sin paréntesis, forma muy común de ver en la devolución de una función."
      ]
    },
    {
      "cell_type": "code",
      "metadata": {
        "id": "hamNYxGJLhDp",
        "colab_type": "code",
        "colab": {
          "base_uri": "https://localhost:8080/",
          "height": 35
        },
        "outputId": "520a720d-5f81-4b63-a367-6fb79867f575"
      },
      "source": [
        "def get_tuple():\n",
        "  return \"Hello\", \"World\"\n",
        "\n",
        "hello, world = get_tuple()\n",
        "\n",
        "print(f\"{hello}, {world}\")"
      ],
      "execution_count": null,
      "outputs": [
        {
          "output_type": "stream",
          "text": [
            "World, Hello\n"
          ],
          "name": "stdout"
        }
      ]
    },
    {
      "cell_type": "code",
      "metadata": {
        "id": "aCR-UdlWwJm1",
        "colab_type": "code",
        "colab": {
          "base_uri": "https://localhost:8080/",
          "height": 35
        },
        "outputId": "45d9fce5-60d5-416b-b371-09b5727978d4"
      },
      "source": [
        "def get_info():\n",
        "  return [\"Lucas\", 184]\n",
        "\n",
        "info = get_info()\n",
        "print(f\"name: {info[0]}, height: {info[1]}\")"
      ],
      "execution_count": null,
      "outputs": [
        {
          "output_type": "stream",
          "text": [
            "name: Lucas, height: 184\n"
          ],
          "name": "stdout"
        }
      ]
    },
    {
      "cell_type": "code",
      "metadata": {
        "id": "uHkY-xBIvkUM",
        "colab_type": "code",
        "colab": {
          "base_uri": "https://localhost:8080/",
          "height": 35
        },
        "outputId": "c6533770-7052-42c7-c8d0-a08d6e57276e"
      },
      "source": [
        "def sum_numbers(a, b):\n",
        "  return a + b\n",
        "\n",
        "result = sum_numbers(2, 3)\n",
        "print(result)"
      ],
      "execution_count": null,
      "outputs": [
        {
          "output_type": "stream",
          "text": [
            "5\n"
          ],
          "name": "stdout"
        }
      ]
    },
    {
      "cell_type": "markdown",
      "metadata": {
        "id": "j0U8oS0mAY47",
        "colab_type": "text"
      },
      "source": [
        "Otra propiedad interesante de las tuplas es que al almacenarse en una variable pueden extraerse con una asignación múltiple"
      ]
    },
    {
      "cell_type": "code",
      "metadata": {
        "id": "P4ZlOZbSAgn7",
        "colab_type": "code",
        "colab": {
          "base_uri": "https://localhost:8080/",
          "height": 53
        },
        "outputId": "c3eb905f-d876-4a90-a6bc-a47e4ce5fde0"
      },
      "source": [
        "new_tuple = (\"Hello\", \"World\", 1, 10)\n",
        "first, second, third, fourth = new_tuple\n",
        "print(f\"first: {first}, second: {second}, third: {third}, fourth: {fourth}\")"
      ],
      "execution_count": null,
      "outputs": [
        {
          "output_type": "stream",
          "text": [
            "first: Hello, second: World, third: 1, fourth: 10\n",
            "3\n"
          ],
          "name": "stdout"
        }
      ]
    },
    {
      "cell_type": "markdown",
      "metadata": {
        "id": "iTiWumA44I9F",
        "colab_type": "text"
      },
      "source": [
        "Listas y Tuplas, artículo de refuerzo: \n",
        "\n",
        "https://realpython.com/python-lists-tuples/\n"
      ]
    },
    {
      "cell_type": "markdown",
      "metadata": {
        "colab_type": "text",
        "id": "k8s7mQHMKR0d"
      },
      "source": [
        "### Ejercicio (evaluación)\n"
      ]
    },
    {
      "cell_type": "code",
      "metadata": {
        "colab_type": "code",
        "id": "YAcR-MjMKR0e",
        "colab": {}
      },
      "source": [
        "# Create an empty tuple with the built-in python declaration\n",
        "\n",
        "# Create a  tuple with different data types (more than one)\n",
        "\n",
        "# Print the second value of the new tuple\n",
        "\n",
        "# Assing those values to multiple variables and print them\n",
        "\n",
        "# Add a value to a tuple"
      ],
      "execution_count": null,
      "outputs": []
    },
    {
      "cell_type": "markdown",
      "metadata": {
        "id": "9W78FQdh_6g3",
        "colab_type": "text"
      },
      "source": [
        ""
      ]
    },
    {
      "cell_type": "markdown",
      "metadata": {
        "colab_type": "text",
        "id": "K7Pwr0VBKR0f"
      },
      "source": [
        "#### Solución\n",
        "\n",
        "Haz click para ver el resultado"
      ]
    },
    {
      "cell_type": "code",
      "metadata": {
        "colab_type": "code",
        "id": "lfh4O9pNKR0g",
        "colab": {}
      },
      "source": [
        "# Create an empty tuple with the built-in python declaration\n",
        "new_tuple = tuple()\n",
        "\n",
        "# Create a  tuple with different data types (more than one)\n",
        "multiple_values = (1, 2, \"Hi\")\n",
        "\n",
        "# Print the second value of the new tuple\n",
        "print(multiple_values[1])\n",
        "\n",
        "# Assing those values to multiple variables and print them\n",
        "first, second, thrid = multiple_values\n",
        "print(f\"first: {first}, second: {second}, third: {third}\")\n",
        "\n",
        "# Add a value to the tuple\n",
        "multiple_values = multiple_values + (10,)\n",
        "print(multiple_values)"
      ],
      "execution_count": null,
      "outputs": []
    },
    {
      "cell_type": "markdown",
      "metadata": {
        "id": "iP6R1L7M8vo-",
        "colab_type": "text"
      },
      "source": [
        "## Diccionario"
      ]
    },
    {
      "cell_type": "markdown",
      "metadata": {
        "id": "jhTVMJ_YL-jd",
        "colab_type": "text"
      },
      "source": [
        "Los diccionarios son una colección de valores sin orden que pueden intercambiarse y están indexados por una clave. Estas claves deben ser únicas, es decir, no puede haber repetición y mientras que el valor de las claves puede mutar, éstas son inmutables."
      ]
    },
    {
      "cell_type": "markdown",
      "metadata": {
        "id": "FJI-QmACNBpH",
        "colab_type": "text"
      },
      "source": [
        "Los diccionarios se definen en python con un conjunto de clave/valor separado por dos puntos (:), estos elementos están separados por comas y agrupados por llaves."
      ]
    },
    {
      "cell_type": "code",
      "metadata": {
        "id": "2Peoql1pNPZ_",
        "colab_type": "code",
        "colab": {
          "base_uri": "https://localhost:8080/",
          "height": 53
        },
        "outputId": "7743995f-7e4f-469b-eeeb-2a322982d026"
      },
      "source": [
        "# Dictionary definition\n",
        "empty_dict = {}\n",
        "print(empty_dict)\n",
        "string_dict = {\"name\": \"Javier\", \n",
        "               \"age\": \"30\",\n",
        "               \"height\": \"1.86\"}\n",
        "print(f'{string_dict[\"name\"]} {string_dict[\"age\"]} {string_dict[\"height\"]}')\n"
      ],
      "execution_count": null,
      "outputs": [
        {
          "output_type": "stream",
          "text": [
            "{}\n",
            "Javier 30 1.86\n"
          ],
          "name": "stdout"
        }
      ]
    },
    {
      "cell_type": "markdown",
      "metadata": {
        "id": "nss-Kv2AOW7C",
        "colab_type": "text"
      },
      "source": [
        "**Acceder a valores**\n",
        "\n",
        "Para acceder a valores en un diccionario usamos una sintaxis similar que en las secuencias, elegimos la clave que queremos extraer entre corchetes, siempre teniendo en cuenta que el acceso de una clave inexistente da como reusltado un *Error de Clave*"
      ]
    },
    {
      "cell_type": "code",
      "metadata": {
        "id": "EmztLlpKOTWa",
        "colab_type": "code",
        "colab": {
          "base_uri": "https://localhost:8080/",
          "height": 53
        },
        "outputId": "2da9a705-a4ee-455d-c405-be3ae9f8f398"
      },
      "source": [
        "# Accesing Values\n",
        "string_dict = {\"first\": \"Hello\", \"second\": \"World\"}\n",
        "ex_str = string_dict[\"first\"]\n",
        "print(ex_str)\n",
        "\n",
        "ex_str_2 = string_dict.get(\"second\", \"failed\")\n",
        "print(ex_str_2)"
      ],
      "execution_count": null,
      "outputs": [
        {
          "output_type": "stream",
          "text": [
            "Hello\n",
            "failed\n"
          ],
          "name": "stdout"
        }
      ]
    },
    {
      "cell_type": "code",
      "metadata": {
        "id": "dvlb0AIXO4Db",
        "colab_type": "code",
        "colab": {
          "base_uri": "https://localhost:8080/",
          "height": 225
        },
        "outputId": "0107f7ba-1aa7-4004-8c3b-a59e1bada41b"
      },
      "source": [
        "# Error Accesing Values\n",
        "string_dict = {\"first\": \"Hello\", \"second\": \"World\"}\n",
        "print(string_dict)\n",
        "ex_str = string_dict[\"third\"]\n"
      ],
      "execution_count": null,
      "outputs": [
        {
          "output_type": "stream",
          "text": [
            "{'first': 'Hello', 'second': 'World'}\n"
          ],
          "name": "stdout"
        },
        {
          "output_type": "error",
          "ename": "KeyError",
          "evalue": "ignored",
          "traceback": [
            "\u001b[0;31m---------------------------------------------------------------------------\u001b[0m",
            "\u001b[0;31mKeyError\u001b[0m                                  Traceback (most recent call last)",
            "\u001b[0;32m<ipython-input-108-0a7088ca5225>\u001b[0m in \u001b[0;36m<module>\u001b[0;34m()\u001b[0m\n\u001b[1;32m      2\u001b[0m \u001b[0mstring_dict\u001b[0m \u001b[0;34m=\u001b[0m \u001b[0;34m{\u001b[0m\u001b[0;34m\"first\"\u001b[0m\u001b[0;34m:\u001b[0m \u001b[0;34m\"Hello\"\u001b[0m\u001b[0;34m,\u001b[0m \u001b[0;34m\"second\"\u001b[0m\u001b[0;34m:\u001b[0m \u001b[0;34m\"World\"\u001b[0m\u001b[0;34m}\u001b[0m\u001b[0;34m\u001b[0m\u001b[0;34m\u001b[0m\u001b[0m\n\u001b[1;32m      3\u001b[0m \u001b[0mprint\u001b[0m\u001b[0;34m(\u001b[0m\u001b[0mstring_dict\u001b[0m\u001b[0;34m)\u001b[0m\u001b[0;34m\u001b[0m\u001b[0;34m\u001b[0m\u001b[0m\n\u001b[0;32m----> 4\u001b[0;31m \u001b[0mex_str\u001b[0m \u001b[0;34m=\u001b[0m \u001b[0mstring_dict\u001b[0m\u001b[0;34m[\u001b[0m\u001b[0;34m\"third\"\u001b[0m\u001b[0;34m]\u001b[0m\u001b[0;34m\u001b[0m\u001b[0;34m\u001b[0m\u001b[0m\n\u001b[0m",
            "\u001b[0;31mKeyError\u001b[0m: 'third'"
          ]
        }
      ]
    },
    {
      "cell_type": "markdown",
      "metadata": {
        "id": "Uq3DIP_7PGPJ",
        "colab_type": "text"
      },
      "source": [
        "**Añadir un elemento**\n",
        "\n",
        "Para añadir un elemento solo hay que asignar un valor a una nueva clave entre corchetes."
      ]
    },
    {
      "cell_type": "code",
      "metadata": {
        "id": "R_nV-MxXOH80",
        "colab_type": "code",
        "colab": {
          "base_uri": "https://localhost:8080/",
          "height": 53
        },
        "outputId": "41e47c26-6890-4613-b1a0-befdc510f726"
      },
      "source": [
        "# Adding element\n",
        "\n",
        "dict_test = {\"first\": \"Hello\", \"second\": \"World\"}\n",
        "print(dict_test)\n",
        "\n",
        "dict_test[\"third\"] = \"!\"\n",
        "dict_test[\"fourth\"] = 4\n",
        "print(f\"We have this {dict_test}\")"
      ],
      "execution_count": null,
      "outputs": [
        {
          "output_type": "stream",
          "text": [
            "{'first': 'Hello', 'second': 'World'}\n",
            "We have this {'first': 'Hello', 'second': 'World', 'third': '!', 'fourth': 4}\n"
          ],
          "name": "stdout"
        }
      ]
    },
    {
      "cell_type": "markdown",
      "metadata": {
        "id": "3BhT4wDSPO6C",
        "colab_type": "text"
      },
      "source": [
        "**Actualizar un elemento**\n",
        "\n",
        "Actualizar elementos funciona de manera similar que añadir, solo hay que elegir una clave ya establecida y asignarle un nuevo valor"
      ]
    },
    {
      "cell_type": "code",
      "metadata": {
        "id": "V57TsyJp8wsY",
        "colab_type": "code",
        "colab": {}
      },
      "source": [
        "# Updating element\n",
        "\n",
        "dict_test = {\"first\": \"Hi\", \"second\": \"World\"}\n",
        "print(dict_test)\n",
        "\n",
        "dict_test[\"first\"] = \"Hello\"\n",
        "print(f\"We have this {dict_test}\")\n"
      ],
      "execution_count": null,
      "outputs": []
    },
    {
      "cell_type": "markdown",
      "metadata": {
        "id": "fLFlOEhNPIqb",
        "colab_type": "text"
      },
      "source": [
        "**Eliminar elementos**\n",
        "\n",
        "Hay tres acciones para eliminar elementos en  los diccionarios:\n",
        "\n",
        "\n",
        "*   Borrar una entrada del diccionario.\n",
        "*   Borrar todas las entradas del diccionario.\n",
        "*   Borrar el diccionario entero.\n",
        "\n"
      ]
    },
    {
      "cell_type": "code",
      "metadata": {
        "id": "EPaux636PQt4",
        "colab_type": "code",
        "colab": {
          "base_uri": "https://localhost:8080/",
          "height": 53
        },
        "outputId": "a26e9a43-64f3-44a7-98eb-7414fbcf423b"
      },
      "source": [
        "# Deleting elements\n",
        "\n",
        "dict_test = {\"first\": \"Hi\", \"second\": \"World\", \"third\": \"!!!!\"}\n",
        "del dict_test[\"second\"] # remove entry with key `second`\n",
        "print(dict_test)\n",
        "dict_test.clear() # remove all the entries in the dictionary\n",
        "print(dict_test)\n",
        "del dict_test # remove the dictionary"
      ],
      "execution_count": null,
      "outputs": [
        {
          "output_type": "stream",
          "text": [
            "{'first': 'Hi', 'third': '!!!!'}\n",
            "{}\n"
          ],
          "name": "stdout"
        }
      ]
    },
    {
      "cell_type": "markdown",
      "metadata": {
        "id": "QYOFtsdNPYds",
        "colab_type": "text"
      },
      "source": [
        "**Funciones y métodos**\n",
        "\n",
        "Hay varios operadores elementales dentro de las funciones y métodos de un diccionario.\n"
      ]
    },
    {
      "cell_type": "code",
      "metadata": {
        "id": "GlRJxR_uPaqi",
        "colab_type": "code",
        "colab": {
          "base_uri": "https://localhost:8080/",
          "height": 143
        },
        "outputId": "13737ac6-2528-4f73-ad54-2351026c66b3"
      },
      "source": [
        "dict_test = {\"first\": \"Hi\", \"second\": \"World\"}\n",
        "dict_2_test = {\"first\": \"Hi\", \"second\": \"potato\", \"third\": \"tomato\"}\n",
        "\n",
        "# Get lenght\n",
        "print(len(dict_test)) \n",
        "print(len(dict_2_test)) \n",
        "\n",
        "# String representation\n",
        "print(str(dict_test))\n",
        "\n",
        "# Copy a dictionary\n",
        "dict_test_copy = dict_test.copy()\n",
        "print(dict_test_copy)\n",
        "\n",
        "# Get an element\n",
        "first_element = dict_test.get(\"first\", \"not found\")\n",
        "fourth_element = dict_test.get(\"fourth\", \"not found\")\n",
        "print(f\"First element: {first_element}\")\n",
        "print(f\"Fourt element: {fourth_element}\")\n",
        "\n",
        "# Return all keys\n",
        "print(dict_2_test.keys())"
      ],
      "execution_count": null,
      "outputs": [
        {
          "output_type": "stream",
          "text": [
            "2\n",
            "3\n",
            "{'first': 'Hi', 'second': 'World'}\n",
            "{'first': 'Hi', 'second': 'World'}\n",
            "First element: Hi\n",
            "Fourt element: not found\n",
            "dict_keys(['first', 'second', 'third'])\n"
          ],
          "name": "stdout"
        }
      ]
    },
    {
      "cell_type": "code",
      "metadata": {
        "id": "yQI39zP00lrq",
        "colab_type": "code",
        "colab": {}
      },
      "source": [
        "dict_test = {\"first\": \"Hi\", \"second\": \"World\"}\n",
        "\n",
        "dict_test_copy = dict_test.copy()\n",
        "#dict_test_copy = dict_test\n",
        "\n",
        "dict_test_copy.clear()\n",
        "print(dict_test_copy)\n",
        "print(dict_test)\n"
      ],
      "execution_count": null,
      "outputs": []
    },
    {
      "cell_type": "markdown",
      "metadata": {
        "colab_type": "text",
        "id": "ttgU48umKegf"
      },
      "source": [
        "### Ejercicio (evaluación)\n"
      ]
    },
    {
      "cell_type": "code",
      "metadata": {
        "colab_type": "code",
        "id": "urSyJZFRKegg",
        "colab": {}
      },
      "source": [
        "# TODO write some variables holding dictionaries, both empty and populated\n",
        "\n",
        "\n",
        "# Add few elements to the empty dictionary\n",
        "\n",
        "\n",
        "# Access one of the elements of the dictionary by its key\n",
        "\n",
        "\n",
        "# Update an element of the list\n",
        "\n",
        "\n",
        "# Remove all the entries of the dictionary\n",
        "\n",
        "\n",
        "# Check if the empty dictionary is in fact empty (by returning a boolean)\n",
        "\n",
        "\n",
        "# Check if this key is in the populated dictionary: \"world\"\n",
        "\n",
        "\n",
        "# Try to get this element of the dictionary, if fails return \"not found\": \"hello\""
      ],
      "execution_count": null,
      "outputs": []
    },
    {
      "cell_type": "markdown",
      "metadata": {
        "colab_type": "text",
        "id": "mla1P1mGKegh"
      },
      "source": [
        "#### Solución\n",
        "\n",
        "Haz click para ver el resultado"
      ]
    },
    {
      "cell_type": "code",
      "metadata": {
        "colab_type": "code",
        "id": "i8CKp26zKegi",
        "colab": {}
      },
      "source": [
        "# TODO write some variables holding dictionaries, both empty and populated\n",
        "new_dictionary = {\"first\": \"Hello\", \"second\": \"World\", \"third\": \"Hurray\"}\n",
        "empty_dictionary = {}\n",
        "\n",
        "# Add few elements to the empty dictionary\n",
        "empty_dictionary[\"user\"] = \"test\"\n",
        "empty_dictionary[\"password\"] = \"test\"\n",
        "print(empty_dictionary)\n",
        "\n",
        "# Access one of the elements of the dictionary by its key\n",
        "username = empty_dictionary[\"user\"]\n",
        "print(username)\n",
        "\n",
        "# Update an element of the list\n",
        "empty_dictionary[\"password\"] = \"!890fas78ds\"\n",
        "\n",
        "# Remove all the entries of the dictionary\n",
        "empty_dictionary.clear()\n",
        "\n",
        "# Check if the empty dictionary is in fact empty (by returning a boolean)\n",
        "print(len(empty_dictionary) == 0)\n",
        "print(not empty_dictionary)\n",
        "\n",
        "# Check if this key is in the populated dictionary: \"world\"\n",
        "print(\"world\" in new_dictionary)\n",
        "\n",
        "# Try to get this element of the populated dictionary, if fails return \"not found\": \"hello\"\n",
        "element = new_dictionary.get(\"hello\", \"not found\")\n",
        "print(element)"
      ],
      "execution_count": null,
      "outputs": []
    }
  ]
}