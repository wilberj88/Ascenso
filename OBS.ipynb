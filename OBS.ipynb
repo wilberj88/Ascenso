{
 "cells": [
  {
   "cell_type": "markdown",
   "metadata": {
    "id": "0rZ4aCnGsa4L"
   },
   "source": [
    "#Librerias necesarias"
   ]
  },
  {
   "cell_type": "code",
   "execution_count": 1,
   "metadata": {
    "id": "1DfqdR6ZgYkv"
   },
   "outputs": [
    {
     "name": "stdout",
     "output_type": "stream",
     "text": [
      "\u001b[33mDEPRECATION: Python 2.7 reached the end of its life on January 1st, 2020. Please upgrade your Python as Python 2.7 is no longer maintained. pip 21.0 will drop support for Python 2.7 in January 2021. More details about Python 2 support in pip can be found at https://pip.pypa.io/en/latest/development/release-process/#python-2-support pip 21.0 will remove support for this functionality.\u001b[0m\n",
      "Defaulting to user installation because normal site-packages is not writeable\n",
      "Collecting pycaret\n",
      "  Using cached pycaret-2.1.2.tar.gz (247 kB)\n",
      "\u001b[31m    ERROR: Command errored out with exit status 1:\n",
      "     command: /System/Library/Frameworks/Python.framework/Versions/2.7/Resources/Python.app/Contents/MacOS/Python -c 'import sys, setuptools, tokenize; sys.argv[0] = '\"'\"'/private/var/folders/w9/lfdw205d4d34th5jdm2zd_700000gn/T/pip-install-EZ3B5A/pycaret/setup.py'\"'\"'; __file__='\"'\"'/private/var/folders/w9/lfdw205d4d34th5jdm2zd_700000gn/T/pip-install-EZ3B5A/pycaret/setup.py'\"'\"';f=getattr(tokenize, '\"'\"'open'\"'\"', open)(__file__);code=f.read().replace('\"'\"'\\r\\n'\"'\"', '\"'\"'\\n'\"'\"');f.close();exec(compile(code, __file__, '\"'\"'exec'\"'\"'))' egg_info --egg-base /private/var/folders/w9/lfdw205d4d34th5jdm2zd_700000gn/T/pip-pip-egg-info-5yfAAd\n",
      "         cwd: /private/var/folders/w9/lfdw205d4d34th5jdm2zd_700000gn/T/pip-install-EZ3B5A/pycaret/\n",
      "    Complete output (6 lines):\n",
      "    Traceback (most recent call last):\n",
      "      File \"<string>\", line 1, in <module>\n",
      "      File \"/private/var/folders/w9/lfdw205d4d34th5jdm2zd_700000gn/T/pip-install-EZ3B5A/pycaret/setup.py\", line 17\n",
      "        version=f\"{version()}\",\n",
      "                             ^\n",
      "    SyntaxError: invalid syntax\n",
      "    ----------------------------------------\u001b[0m\n",
      "\u001b[31mERROR: Command errored out with exit status 1: python setup.py egg_info Check the logs for full command output.\u001b[0m\n"
     ]
    }
   ],
   "source": [
    "!pip install pycaret"
   ]
  },
  {
   "cell_type": "code",
   "execution_count": null,
   "metadata": {},
   "outputs": [],
   "source": []
  },
  {
   "cell_type": "code",
   "execution_count": 2,
   "metadata": {
    "id": "xWGaTFoJgyCF"
   },
   "outputs": [],
   "source": [
    "import pandas as pd\n",
    "import numpy as np"
   ]
  },
  {
   "cell_type": "markdown",
   "metadata": {
    "id": "x2XFUff8rxQp"
   },
   "source": [
    "#Leer conjunto de datos"
   ]
  },
  {
   "cell_type": "code",
   "execution_count": 3,
   "metadata": {
    "id": "xj12Hj1wgVtW"
   },
   "outputs": [
    {
     "ename": "ModuleNotFoundError",
     "evalue": "No module named 'pycaret'",
     "output_type": "error",
     "traceback": [
      "\u001b[0;31m---------------------------------------------------------------------------\u001b[0m",
      "\u001b[0;31mModuleNotFoundError\u001b[0m                       Traceback (most recent call last)",
      "\u001b[0;32m<ipython-input-3-a4d834032fcf>\u001b[0m in \u001b[0;36m<module>\u001b[0;34m\u001b[0m\n\u001b[0;32m----> 1\u001b[0;31m \u001b[0;32mfrom\u001b[0m \u001b[0mpycaret\u001b[0m\u001b[0;34m.\u001b[0m\u001b[0mdatasets\u001b[0m \u001b[0;32mimport\u001b[0m \u001b[0;34m*\u001b[0m\u001b[0;34m\u001b[0m\u001b[0;34m\u001b[0m\u001b[0m\n\u001b[0m\u001b[1;32m      2\u001b[0m \u001b[0mget_data\u001b[0m\u001b[0;34m(\u001b[0m\u001b[0;34m'index'\u001b[0m\u001b[0;34m)\u001b[0m\u001b[0;34m\u001b[0m\u001b[0;34m\u001b[0m\u001b[0m\n",
      "\u001b[0;31mModuleNotFoundError\u001b[0m: No module named 'pycaret'"
     ]
    }
   ],
   "source": [
    "from pycaret.datasets import *\n",
    "get_data('index')"
   ]
  },
  {
   "cell_type": "code",
   "execution_count": null,
   "metadata": {
    "id": "JuNJdsAfhGDi"
   },
   "outputs": [],
   "source": [
    "data = get_data('titanic')"
   ]
  },
  {
   "cell_type": "markdown",
   "metadata": {
    "id": "zCezA8Xnr4TC"
   },
   "source": [
    "#Configuracion del proceso analítico"
   ]
  },
  {
   "cell_type": "code",
   "execution_count": null,
   "metadata": {
    "id": "2cB7rUkDhpOY"
   },
   "outputs": [],
   "source": [
    "from pycaret.classification import *\n",
    "clf1 = setup (data,   \n",
    "\n",
    "             # TARGET\n",
    "             target = 'Survived',\n",
    "\n",
    "             # SAMPLING DATOS\n",
    "             train_size= 0.80, \n",
    "             sampling = True,\n",
    "             fix_imbalance = True,\n",
    "\n",
    "             # TIPOS DE VARIABLES\n",
    "             categorical_features = None, \n",
    "             ordinal_features = None,                     \n",
    "             numeric_features = None, \n",
    "  \n",
    "             # IMPUTACION NULOS\n",
    "             categorical_imputation = 'mode',             \n",
    "             numeric_imputation = 'mean',                 \n",
    "\n",
    "             # REDUCCION DE LA DIMENSIONALIDAD\n",
    "             remove_outliers = False, \n",
    "             ignore_features = ['Name','Ticket','Cabin'], \n",
    "             ignore_low_variance = False, \n",
    "             remove_multicollinearity = False, \n",
    "             feature_selection = False, \n",
    "             pca = False, \n",
    "\n",
    "             # FEATURE ENGINEERING\n",
    "             normalize = False, \n",
    "             transformation = False, \n",
    "             bin_numeric_features = ['Age'],\n",
    "             polynomial_features = False, \n",
    "             trigonometry_features = False, \n",
    "             feature_interaction = False, \n",
    "             feature_ratio = False\n",
    "              \n",
    "           )"
   ]
  },
  {
   "cell_type": "markdown",
   "metadata": {
    "id": "AmyRGisxr9c_"
   },
   "source": [
    "#Entrenar y optimizar los modelos"
   ]
  },
  {
   "cell_type": "code",
   "execution_count": null,
   "metadata": {
    "id": "xEgapSR3h8Si"
   },
   "outputs": [],
   "source": [
    "best_model = compare_models()"
   ]
  },
  {
   "cell_type": "code",
   "execution_count": null,
   "metadata": {
    "id": "0xPauI_aisdQ"
   },
   "outputs": [],
   "source": [
    "tuned_best_model = tune_model(best_model)"
   ]
  },
  {
   "cell_type": "code",
   "execution_count": null,
   "metadata": {
    "id": "xzLDXS-NjX3R"
   },
   "outputs": [],
   "source": [
    "evaluate_model(tuned_best_model)"
   ]
  },
  {
   "cell_type": "markdown",
   "metadata": {
    "id": "-Jdb9habsCxy"
   },
   "source": [
    "#Guardar el mejor modelo"
   ]
  },
  {
   "cell_type": "code",
   "execution_count": null,
   "metadata": {
    "id": "m2xpmjYJReYH"
   },
   "outputs": [],
   "source": [
    "final_model = finalize_model(tuned_best_model)\n",
    "save_model(final_model, 'mi_modelo')"
   ]
  },
  {
   "cell_type": "markdown",
   "metadata": {
    "id": "02E-ZQf_rhwI"
   },
   "source": [
    "#Cargar modelo y nuevas predicciones"
   ]
  },
  {
   "cell_type": "code",
   "execution_count": null,
   "metadata": {
    "id": "qj-78ZJQRyrV"
   },
   "outputs": [],
   "source": [
    "loaded_model = load_model('mi_modelo')"
   ]
  },
  {
   "cell_type": "code",
   "execution_count": null,
   "metadata": {
    "id": "JdnH3ulSRy5c"
   },
   "outputs": [],
   "source": [
    "new_data = get_data('titanic')"
   ]
  },
  {
   "cell_type": "code",
   "execution_count": null,
   "metadata": {
    "id": "vRyn87XEnQYG"
   },
   "outputs": [],
   "source": [
    "preds = predict_model(loaded_model, data = new_data)\n",
    "preds"
   ]
  }
 ],
 "metadata": {
  "colab": {
   "name": "OBS.ipynb",
   "provenance": []
  },
  "kernelspec": {
   "display_name": "Python 3",
   "language": "python",
   "name": "python3"
  },
  "language_info": {
   "codemirror_mode": {
    "name": "ipython",
    "version": 3
   },
   "file_extension": ".py",
   "mimetype": "text/x-python",
   "name": "python",
   "nbconvert_exporter": "python",
   "pygments_lexer": "ipython3",
   "version": "3.7.6"
  }
 },
 "nbformat": 4,
 "nbformat_minor": 1
}
